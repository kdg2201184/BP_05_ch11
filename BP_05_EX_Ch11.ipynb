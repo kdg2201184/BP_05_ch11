{
  "nbformat": 4,
  "nbformat_minor": 0,
  "metadata": {
    "colab": {
      "provenance": [],
      "authorship_tag": "ABX9TyPXRP7Fa4SOoOgfFUMGgTE5",
      "include_colab_link": true
    },
    "kernelspec": {
      "name": "python3",
      "display_name": "Python 3"
    },
    "language_info": {
      "name": "python"
    }
  },
  "cells": [
    {
      "cell_type": "markdown",
      "metadata": {
        "id": "view-in-github",
        "colab_type": "text"
      },
      "source": [
        "<a href=\"https://colab.research.google.com/github/kdg2201184/BP_05_ch11/blob/main/BP_05_EX_Ch11.ipynb\" target=\"_parent\"><img src=\"https://colab.research.google.com/assets/colab-badge.svg\" alt=\"Open In Colab\"/></a>"
      ]
    },
    {
      "cell_type": "code",
      "execution_count": null,
      "metadata": {
        "id": "XhQx5dhzECiL"
      },
      "outputs": [],
      "source": [
        "filename = input(\"파일 이름을 입력하세요: \").strip()\n",
        "infile = open(filename, \"r\")\n",
        "count = 0\n",
        "\n",
        "for line in inflie:\n",
        "  for ch in line:\n",
        "    count += 1\n",
        "\n",
        "print(\"파일 안에는 총 \", t, \"개의 글자가 있습니다.\")\n",
        "infile.clese"
      ]
    },
    {
      "cell_type": "code",
      "source": [
        "infilename = input(\"파일 이름을 입력하시오: \").strip()\n",
        "infile = open(infilename, \"r\")\n",
        "file_s = infile.read()\n",
        "removed_s = input(\"삭제할 문자열을 입력하시오: \").strip()\n",
        "modified_s = file_s.replace(removed_s, \"\")\n",
        "\n",
        "infile.close()outfile = open(infilename, \"w\")\n",
        "\n",
        "print(modified_s, file = outfile, end = \"\")\n",
        "print(\"변경된 파일이 저장되었습니다.\")\n",
        "outfile.close()"
      ],
      "metadata": {
        "id": "smaJnBEsEnH1"
      },
      "execution_count": null,
      "outputs": []
    },
    {
      "cell_type": "code",
      "source": [
        "infile = open(filename, \"r\")\n",
        "for line in infile:\n",
        "  def countline(line, counter):\n",
        "    for ch in line:\n",
        "      if ch.isalpha():\n",
        "        if ch in counter:\n",
        "          counter[ch] = counter[ch] + 1\n",
        "        else:\n",
        "          counter[ch] = 1\n",
        "\n",
        "frame = input('입력 파일 이름: ').strip()\n",
        "infile = open(frame, \"r\")\n",
        "\n",
        "my_dict = {}\n",
        "for line in infile:\n",
        "  countLine(line, my_dict)\n",
        "\n",
        "print(my_dict)\n",
        "infile.close()"
      ],
      "metadata": {
        "id": "bP-6zKT7LaDh"
      },
      "execution_count": null,
      "outputs": []
    },
    {
      "cell_type": "code",
      "source": [
        "import pinkle\n",
        "\n",
        "outfile = open(\"test.dat\", \"wb\")\n",
        "pickle.dump(12, outfile)\n",
        "pickle.dump(3.14, outfile)\n",
        "pickle.dump([1, 2, 3, 4, 5], outfile)\n",
        "outfile.clse()\n",
        "\n",
        "infile = open(\"test.dat\", \"rb\")\n",
        "print(pickle.load(infile))\n",
        "print(pickle.load(infile))\n",
        "print(pickle.load(infile))\n",
        "infile.close()"
      ],
      "metadata": {
        "id": "NgGfAkCzMnGz"
      },
      "execution_count": null,
      "outputs": []
    },
    {
      "cell_type": "code",
      "source": [
        "inFileName = input(\"입력 파일 이름: \")\n",
        "outFileName = input(\"출력 파일 이름: \")\n",
        "\n",
        "infile = open(inFileName, \"r\")\n",
        "outfile = open(outFileName, \"w\")\n",
        "\n",
        "total = 0.0\n",
        "count = 0\n",
        "\n",
        "line = infile.readline()\n",
        "while line != \"\" :\n",
        "  value = float(line)\n",
        "  total = total + value\n",
        "  count = count + 1\n",
        "  line = infile.readline()\n",
        "\n",
        "outfile.write(\"합계 =\" + str(total) + \"Wn\")\n",
        "\n",
        "avg = total / count\n",
        "outfile.write(\"평균\" + str(avg) + \"\\n\")\n",
        "\n",
        "infile.close()\n",
        "outfile.close()"
      ],
      "metadata": {
        "id": "8HoUO9MQOAz6"
      },
      "execution_count": null,
      "outputs": []
    },
    {
      "cell_type": "code",
      "source": [
        "import pickle\n",
        "from tkinter import *\n",
        "\n",
        "phone_book = {}\n",
        "current = 0\n",
        "name = \"'\n",
        "phone = \"\"\n",
        "\n",
        "window = Tk()\n",
        "\n",
        "frame1 = Frame(window)\n",
        "frame1.pack()\n",
        "Label1(frame1, text = \"이름  \").grid(row = 1, column = 1, sticky = w)\n",
        "nameEntry = Entry(frame1 ,textvariable = name, width = 30\n",
        "nameEntry.grid(row = 1, column = 2)\n",
        "\n",
        "frame2 = frame(window)\n",
        "frame2.pack()\n",
        "Label1(frame2, text = \"전화번호\").grid(row = 1, column = 1, sticky = w)\n",
        "phoneEntry = Entry(frame2 ,textvariable = name, width = 30\n",
        "phoneEntry.grid(row = 1, column = 2)\n",
        "\n",
        "frame3 = Frame(window)\n",
        "frame3.pack()\n",
        "\n",
        "def save():\n",
        "\toutfile = open(\"phonebook.dat\", \"wb\")\n",
        "\tpickle.dump(phone_book, outfile)\n",
        "\tprint(\"주소들이 파일에 저장되었습니다.\")\n",
        "\toutfile.close()\n",
        "\n",
        "def load():\n",
        "\tinfile = open(phonebook.dat\", \"rb\")\n",
        "\tphone_book = pickle.load(infile)\n",
        "\tinfile.close()\n",
        "\tprint(\"파일에서 주소를 읽었습니다.\")\n",
        "\tgo_first()\n",
        "\n",
        "def add():\n",
        "\tphone_book[nameEntry.get()] = phoneEntry.get()\n",
        "\tprint(phone_book)\n",
        "\tsave()\n",
        "\n",
        "def go_first():\n",
        "\tgloabal current\n",
        "\tcurrent = 0\n",
        "\tks = list(phone_book)\n",
        "\tprint(phone_book)\n",
        "\tnameEntry.delete(0, END)\n",
        "\tnameEntry.insert(0, ks[current])\n",
        "\tphoneEntry.delete(0, END)\n",
        "\tphoneEntry.insert(0, phone_book[ks[current]])\n",
        "\n",
        "def go_previous():\n",
        "\tprint(\"구현되지 않았음\")\n",
        "\n",
        "def go_last():\n",
        "\tprint(\"구현되지 않았음\")\n",
        "\n",
        "b1 = Button(frame3, text = \"추가\", command = add).grid(row=1, column=1)\n",
        "b2 = Button(frame3, text = \"처음\", command = go_first).grid(row=1, column=2)\n",
        "b3 = Button(frame3, text = \"다음\", command = go_next).grid(row=1, column=3)\n",
        "b4 = Button(frame3, text = \"이전\", command = go_previous).grid(row=1, column=4)\n",
        "b5 = Button(frame3, text = \"마지막\", command = go_last).grid(row=1, column=5)\n",
        "b6 = Button(frame3, text = \"파일 읽기\", command = load).grid(row=1, column=6)\n",
        "\n",
        "window.mainloop()"
      ],
      "metadata": {
        "id": "Y0hONjM5H3jB"
      },
      "execution_count": null,
      "outputs": []
    }
  ]
}